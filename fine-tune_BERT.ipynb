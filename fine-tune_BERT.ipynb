{
 "cells": [
  {
   "cell_type": "code",
   "execution_count": 12,
   "metadata": {
    "collapsed": true
   },
   "outputs": [],
   "source": [
    "import random\n",
    "from typing import Union\n",
    "\n",
    "import torch\n",
    "from torch import Tensor\n",
    "import torch.nn as nn\n",
    "import torch.nn.functional as F\n",
    "from torch.utils.data import DataLoader\n",
    "from tqdm.auto import tqdm\n",
    "import transformers"
   ]
  },
  {
   "cell_type": "code",
   "execution_count": 13,
   "outputs": [],
   "source": [
    "# ######################## PART 1: PROVIDED CODE ########################\n",
    "def load_datasets(data_directory: str) -> Union[dict, dict]:\n",
    "    \"\"\"\n",
    "    Reads the training and validation splits from disk and load\n",
    "    them into memory.\n",
    "\n",
    "    Parameters\n",
    "    ----------\n",
    "    data_directory: str\n",
    "        The directory where the data is stored.\n",
    "\n",
    "    Returns\n",
    "    -------\n",
    "    train: dict\n",
    "        The train dictionary with keys 'premise', 'hypothesis', 'label'.\n",
    "    validation: dict\n",
    "        The validation dictionary with keys 'premise', 'hypothesis', 'label'.\n",
    "    \"\"\"\n",
    "    import json\n",
    "    import os\n",
    "\n",
    "    with open(os.path.join(data_directory, \"train.json\"), \"r\") as f:\n",
    "        train = json.load(f)\n",
    "\n",
    "    with open(os.path.join(data_directory, \"validation.json\"), \"r\") as f:\n",
    "        valid = json.load(f)\n",
    "\n",
    "    return train, valid\n",
    "\n",
    "\n",
    "class NLIDataset(torch.utils.data.Dataset):\n",
    "    def __init__(self, data_dict: dict):\n",
    "        self.data_dict = data_dict\n",
    "        dd = data_dict\n",
    "\n",
    "        if len(dd[\"premise\"]) != len(dd[\"hypothesis\"]) or len(dd[\"premise\"]) != len(\n",
    "                dd[\"label\"]\n",
    "        ):\n",
    "            raise AttributeError(\"Incorrect length in data_dict\")\n",
    "\n",
    "    def __len__(self):\n",
    "        return len(self.data_dict[\"premise\"])\n",
    "\n",
    "    def __getitem__(self, idx):\n",
    "        dd = self.data_dict\n",
    "        return dd[\"premise\"][idx], dd[\"hypothesis\"][idx], dd[\"label\"][idx]\n",
    "\n",
    "\n",
    "def train_distilbert(model, loader, device):\n",
    "    model.train()\n",
    "    criterion = model.get_criterion()\n",
    "    total_loss = 0.0\n",
    "\n",
    "    for premise, hypothesis, target in tqdm(loader):\n",
    "        optimizer.zero_grad()\n",
    "\n",
    "        inputs = model.tokenize(premise, hypothesis).to(device)\n",
    "        target = target.to(device, dtype=torch.float32)\n",
    "\n",
    "        pred = model(inputs)\n",
    "\n",
    "        loss = criterion(pred, target)\n",
    "        loss.backward()\n",
    "        optimizer.step()\n",
    "\n",
    "        total_loss += loss.item()\n",
    "\n",
    "    return total_loss / len(loader)\n",
    "\n",
    "\n",
    "@torch.no_grad()\n",
    "def eval_distilbert(model, loader, device):\n",
    "    model.eval()\n",
    "\n",
    "    targets = []\n",
    "    preds = []\n",
    "\n",
    "    for premise, hypothesis, target in loader:\n",
    "        preds.append(model(model.tokenize(premise, hypothesis).to(device)))\n",
    "\n",
    "        targets.append(target)\n",
    "\n",
    "    return torch.cat(preds), torch.cat(targets)"
   ],
   "metadata": {
    "collapsed": false
   }
  },
  {
   "cell_type": "code",
   "execution_count": 14,
   "outputs": [],
   "source": [
    "class CustomDistilBert(nn.Module):\n",
    "    def __init__(self):\n",
    "        \"\"\"\n",
    "        CustomDistilBert.__init__\n",
    "        Note:\n",
    "        ● Load the DistilBERT model's pretrained \"base uncased\" weights from the Huggingface\n",
    "        repository. We want the bare encoder outputting hidden-states without any specific head\n",
    "        on top.\n",
    "        ● Load the corresponding pre-trained tokenizer using the same method.\n",
    "        ● self.pred_layer takes the output of the model and predicts a single score (binary, 1 or 0),\n",
    "        then pass the output to the sigmoid layer\n",
    "        ● self.sigmoid should return torch's sigmoid activation.\n",
    "        ● self.criterion should be the binary cross-entropy loss. You may use torch.nn here.\n",
    "        \"\"\"\n",
    "        super().__init__()\n",
    "\n",
    "        # TODO: your work below\n",
    "        self.distilbert = transformers.DistilBertModel.from_pretrained('distilbert-base-uncased')\n",
    "        self.tokenizer = transformers.DistilBertTokenizer.from_pretrained('distilbert-base-uncased')\n",
    "        self.pred_layer = nn.Linear(768, 1)\n",
    "        self.sigmoid = nn.Sigmoid()\n",
    "        self.criterion = nn.BCELoss()\n",
    "\n",
    "    # vvvvv DO NOT CHANGE BELOW THIS LINE vvvvv\n",
    "    def get_distilbert(self):\n",
    "        return self.distilbert\n",
    "\n",
    "    def get_tokenizer(self):\n",
    "        return self.tokenizer\n",
    "\n",
    "    def get_pred_layer(self):\n",
    "        return self.pred_layer\n",
    "\n",
    "    def get_sigmoid(self):\n",
    "        return self.sigmoid\n",
    "\n",
    "    def get_criterion(self):\n",
    "        return self.criterion\n",
    "\n",
    "    # ^^^^^ DO NOT CHANGE ABOVE THIS LINE ^^^^^\n",
    "\n",
    "    def assign_optimizer(self, **kwargs):\n",
    "        \"\"\"\n",
    "        CustomDistilBert.assign_optimizer\n",
    "        This assigns the Adam optimizer to this model's parameters (self) and returns the optimizer.\n",
    "        :param kwargs:\n",
    "        :return:\n",
    "        \"\"\"\n",
    "        # TODO: your work below\n",
    "        return torch.optim.Adam(self.parameters(), **kwargs)\n",
    "\n",
    "    def slice_cls_hidden_state(\n",
    "            self, x\n",
    "    ) -> torch.Tensor:\n",
    "        \"\"\"\n",
    "        Edit the method CustomDistilBert.slice_cls_hidden_state. This is a helper method that will be\n",
    "        used inside forward, and will convert the output of your transformer model to something that can\n",
    "        be input in the prediction layer.\n",
    "        CustomDistilBert.slice_cls_hidden_state\n",
    "        Using the output of the model, return the last hidden state of the CLS token.\n",
    "        ParameterTypeDescription\n",
    "        xBaseModelOutputThe output of the distilbert model. You need to retrieve\n",
    "        the hidden state of the last output layer, then slice it to\n",
    "        obtain the hidden representation. The last hidden state\n",
    "        has shape: [batch_size, sequence_length,\n",
    "        hidden_size]\n",
    "        ReturnsDescription\n",
    "        Tensor[batch_size,\n",
    "        hidden_size]The last layer's hidden state representing the [CLS] token.\n",
    "        Usually, CLS is the first token in the sequence.\n",
    "        :param x:\n",
    "        :return:\n",
    "        \"\"\"\n",
    "        # TODO: your work below\n",
    "        return x.last_hidden_state[:, 0, :]  # [batch_size, hidden_size]\n",
    "\n",
    "    def tokenize(\n",
    "            self,\n",
    "            premise: \"list[str]\",\n",
    "            hypothesis: \"list[str]\",\n",
    "            max_length: int = 128,\n",
    "            truncation: bool = True,\n",
    "            padding: bool = True,\n",
    "    ):\n",
    "        \"\"\"\n",
    "        Use the get_tokenizer function implemented in 2.1 to write the method\n",
    "        CustomDistilBert.tokenize. That method is specifically to help you understand how the\n",
    "        tokenizer works, and should be fairly straightforward.\n",
    "        This function will be applied to the premise and hypothesis (list of str) to obtain the inputs for\n",
    "        your model. You will need to use the Huggingface tokenizer returned by get_tokenizer().\n",
    "        ParameterTypeDescription\n",
    "        premiselist of strThe first text to be input in your model.\n",
    "        hypothesislist of strThe second text to be input in your model.\n",
    "        For the remaining params, see documentations.\n",
    "        ReturnsDescription\n",
    "        BatchEncodingA dictionary-like object that can be given to the model (you\n",
    "        can find out how by reading the docs)\n",
    "        :param premise:\n",
    "        :param hypothesis:\n",
    "        :param max_length:\n",
    "        :param truncation:\n",
    "        :param padding:\n",
    "        :return:\n",
    "        \"\"\"\n",
    "        # TODO: your work below\n",
    "        return self.tokenizer(\n",
    "            premise,\n",
    "            hypothesis,\n",
    "            max_length=max_length,\n",
    "            truncation=truncation,\n",
    "            padding=padding,\n",
    "            return_tensors=\"pt\",\n",
    "        )\n",
    "\n",
    "    def forward(self, inputs):\n",
    "        \"\"\"\n",
    "        Given the output of your tokenizer (a BatchEncoding object), you will have to pass through your\n",
    "        custom DistilBert model and output a score between 0 and 1 for each element in your batch;\n",
    "        this score represents whether there’s an entailment or not.\n",
    "        CustomDistilBert.forward\n",
    "        Note: In the original BERT paper, the output representation of CLS is used for classification.\n",
    "        You will need to slice the output of your DistilBERT to obtain the representation before giving it\n",
    "        to the last layer with sigmoid activation.\n",
    "        :param inputs:\n",
    "        :return:\n",
    "        \"\"\"\n",
    "        # TODO: your work below\n",
    "        x = self.distilbert(**inputs, return_dict=True)\n",
    "        x = self.slice_cls_hidden_state(x)\n",
    "        x = self.pred_layer(x)\n",
    "        x = self.sigmoid(x)\n",
    "        x = x.squeeze(1)\n",
    "        return x"
   ],
   "metadata": {
    "collapsed": false
   }
  },
  {
   "cell_type": "code",
   "execution_count": 15,
   "outputs": [
    {
     "name": "stdout",
     "output_type": "stream",
     "text": [
      "================================================================================\n",
      "Running test code for part 1\n",
      "--------------------------------------------------------------------------------\n"
     ]
    },
    {
     "name": "stderr",
     "output_type": "stream",
     "text": [
      "100%|██████████| 40/40 [00:02<00:00, 16.34it/s]\n",
      "  2%|▎         | 1/40 [00:00<00:04,  8.37it/s]"
     ]
    },
    {
     "name": "stdout",
     "output_type": "stream",
     "text": [
      "Epoch: 0\n",
      "Training loss: 0.6116886422038078\n",
      "Training accuracy: 0.8308\n",
      "Validation accuracy: 0.8056\n",
      "\n"
     ]
    },
    {
     "name": "stderr",
     "output_type": "stream",
     "text": [
      "100%|██████████| 40/40 [00:02<00:00, 14.54it/s]\n",
      "  5%|▌         | 2/40 [00:00<00:02, 14.47it/s]"
     ]
    },
    {
     "name": "stdout",
     "output_type": "stream",
     "text": [
      "Epoch: 1\n",
      "Training loss: 0.325053272023797\n",
      "Training accuracy: 0.9396\n",
      "Validation accuracy: 0.8488\n",
      "\n"
     ]
    },
    {
     "name": "stderr",
     "output_type": "stream",
     "text": [
      "100%|██████████| 40/40 [00:02<00:00, 15.55it/s]\n",
      "  5%|▌         | 2/40 [00:00<00:02, 14.88it/s]"
     ]
    },
    {
     "name": "stdout",
     "output_type": "stream",
     "text": [
      "Epoch: 2\n",
      "Training loss: 0.18662585616111754\n",
      "Training accuracy: 0.9836\n",
      "Validation accuracy: 0.8824\n",
      "\n"
     ]
    },
    {
     "name": "stderr",
     "output_type": "stream",
     "text": [
      "100%|██████████| 40/40 [00:02<00:00, 15.84it/s]\n",
      "  5%|▌         | 2/40 [00:00<00:02, 13.09it/s]"
     ]
    },
    {
     "name": "stdout",
     "output_type": "stream",
     "text": [
      "Epoch: 3\n",
      "Training loss: 0.08945085634477437\n",
      "Training accuracy: 0.9884\n",
      "Validation accuracy: 0.8636\n",
      "\n"
     ]
    },
    {
     "name": "stderr",
     "output_type": "stream",
     "text": [
      "100%|██████████| 40/40 [00:02<00:00, 16.22it/s]\n",
      "  5%|▌         | 2/40 [00:00<00:02, 14.81it/s]"
     ]
    },
    {
     "name": "stdout",
     "output_type": "stream",
     "text": [
      "Epoch: 4\n",
      "Training loss: 0.05372771078837104\n",
      "Training accuracy: 0.9944\n",
      "Validation accuracy: 0.8848\n",
      "\n"
     ]
    },
    {
     "name": "stderr",
     "output_type": "stream",
     "text": [
      "100%|██████████| 40/40 [00:02<00:00, 14.82it/s]\n",
      "  5%|▌         | 2/40 [00:00<00:02, 15.89it/s]"
     ]
    },
    {
     "name": "stdout",
     "output_type": "stream",
     "text": [
      "Epoch: 5\n",
      "Training loss: 0.03154317061998881\n",
      "Training accuracy: 0.9984\n",
      "Validation accuracy: 0.884\n",
      "\n"
     ]
    },
    {
     "name": "stderr",
     "output_type": "stream",
     "text": [
      "100%|██████████| 40/40 [00:02<00:00, 15.04it/s]\n",
      "  5%|▌         | 2/40 [00:00<00:02, 13.96it/s]"
     ]
    },
    {
     "name": "stdout",
     "output_type": "stream",
     "text": [
      "Epoch: 6\n",
      "Training loss: 0.027722314739366993\n",
      "Training accuracy: 0.9992\n",
      "Validation accuracy: 0.8856\n",
      "\n"
     ]
    },
    {
     "name": "stderr",
     "output_type": "stream",
     "text": [
      "100%|██████████| 40/40 [00:02<00:00, 16.20it/s]\n",
      "  5%|▌         | 2/40 [00:00<00:02, 14.91it/s]"
     ]
    },
    {
     "name": "stdout",
     "output_type": "stream",
     "text": [
      "Epoch: 7\n",
      "Training loss: 0.014022979329456575\n",
      "Training accuracy: 0.9988\n",
      "Validation accuracy: 0.8896\n",
      "\n"
     ]
    },
    {
     "name": "stderr",
     "output_type": "stream",
     "text": [
      "100%|██████████| 40/40 [00:02<00:00, 16.35it/s]\n",
      "  5%|▌         | 2/40 [00:00<00:02, 15.08it/s]"
     ]
    },
    {
     "name": "stdout",
     "output_type": "stream",
     "text": [
      "Epoch: 8\n",
      "Training loss: 0.0261068334322772\n",
      "Training accuracy: 0.9992\n",
      "Validation accuracy: 0.8752\n",
      "\n"
     ]
    },
    {
     "name": "stderr",
     "output_type": "stream",
     "text": [
      "100%|██████████| 40/40 [00:02<00:00, 16.58it/s]\n"
     ]
    },
    {
     "name": "stdout",
     "output_type": "stream",
     "text": [
      "Epoch: 9\n",
      "Training loss: 0.036133991336100735\n",
      "Training accuracy: 0.998\n",
      "Validation accuracy: 0.8784\n",
      "\n"
     ]
    },
    {
     "data": {
      "text/plain": "<Figure size 432x288 with 1 Axes>",
      "image/png": "[encoded data removed]"
     },
     "metadata": {
      "needs_background": "light"
     },
     "output_type": "display_data"
    }
   ],
   "source": [
    "import pandas as pd\n",
    "from sklearn.metrics import f1_score, accuracy_score  # Make sure sklearn is installed\n",
    "\n",
    "random.seed(2022)\n",
    "torch.manual_seed(2022)\n",
    "\n",
    "# Parameters (you can change them)\n",
    "sample_size = 2500  # Change this if you want to take a subset of data for testing\n",
    "batch_size = 64\n",
    "n_epochs = 10\n",
    "num_words = 50000\n",
    "\n",
    "# If you use GPUs, use the code below:\n",
    "device = torch.device(\"cuda\" if torch.cuda.is_available() else \"cpu\")\n",
    "\n",
    "# ###################### PART 1: TEST CODE ######################\n",
    "# Prefilled code showing you how to use the helper functions\n",
    "train_raw, valid_raw = load_datasets(\"data/nli\")\n",
    "if sample_size is not None:\n",
    "    for key in [\"premise\", \"hypothesis\", \"label\"]:\n",
    "        train_raw[key] = train_raw[key][:sample_size]\n",
    "        valid_raw[key] = valid_raw[key][:sample_size]\n",
    "\n",
    "full_text = (\n",
    "        train_raw[\"premise\"]\n",
    "        + train_raw[\"hypothesis\"]\n",
    "        + valid_raw[\"premise\"]\n",
    "        + valid_raw[\"hypothesis\"]\n",
    ")\n",
    "\n",
    "print(\"=\" * 80)\n",
    "print(\"Running test code for part 1\")\n",
    "print(\"-\" * 80)\n",
    "\n",
    "train_loader = torch.utils.data.DataLoader(\n",
    "    NLIDataset(train_raw), batch_size=batch_size, shuffle=True\n",
    ")\n",
    "valid_loader = torch.utils.data.DataLoader(\n",
    "    NLIDataset(valid_raw), batch_size=batch_size, shuffle=False\n",
    ")\n",
    "\n",
    "model = CustomDistilBert().to(device)\n",
    "optimizer = model.assign_optimizer(lr=1e-4)\n",
    "\"\"\"\n",
    "Upload a plot of the accuracy over time for both the training and validation sets (use different colors and label this inside a legend), where the X axis is the number of epochs, the Y axis is the accuracy (NOT loss).\n",
    "\n",
    "You can use matplotlib, seaborn, plotly, or anything else to generate it. Please upload a JPEG or a PNG, or else you might have some points deduced.\n",
    "\"\"\"\n",
    "train_accs = []\n",
    "valid_accs = []\n",
    "for epoch in range(n_epochs):\n",
    "    loss = train_distilbert(model, train_loader, device=device)\n",
    "\n",
    "    preds, targets = eval_distilbert(model, train_loader, device=device)\n",
    "    preds = preds.round()\n",
    "    acc = accuracy_score(targets.cpu(), preds.cpu())\n",
    "    train_accs.append(acc)\n",
    "    val_preds, val_targets = eval_distilbert(model, valid_loader, device=device)\n",
    "    val_preds = val_preds.round()\n",
    "    val_acc = accuracy_score(val_targets.cpu(), val_preds.cpu())\n",
    "    valid_accs.append(val_acc)\n",
    "\n",
    "    # score = f1_score(targets.cpu(), preds.cpu())\n",
    "\n",
    "    print(\"Epoch:\", epoch)\n",
    "    print(\"Training loss:\", loss)\n",
    "    print(\"Training accuracy:\", acc)\n",
    "    print(\"Validation accuracy:\", val_acc)\n",
    "    # print(\"Validation F1 score:\", score)\n",
    "    print()\n",
    "\n",
    "# plot train and validation accuracy\n",
    "import matplotlib.pyplot as plt\n",
    "plt.plot(train_accs, label='train')\n",
    "plt.plot(valid_accs, label='validation')\n",
    "plt.xlabel('Epochs')\n",
    "plt.ylabel('Accuracy')\n",
    "plt.title('Train and Validation Accuracy')\n",
    "plt.legend()\n",
    "plt.savefig('train_valid_acc.png')\n",
    "plt.show()"
   ],
   "metadata": {
    "collapsed": false
   }
  },
  {
   "cell_type": "code",
   "execution_count": 16,
   "outputs": [
    {
     "name": "stdout",
     "output_type": "stream",
     "text": [
      "Premise: ('Two women are embracing while holding to go packages.',)\n",
      "Hypothesis: ('Two woman are holding packages.',)\n",
      "True Label: tensor([0])\n",
      "Predicted Label: tensor([0.], device='cuda:0', grad_fn=<RoundBackward>)\n",
      "\n",
      "Premise: ('Two women are embracing while holding to go packages.',)\n",
      "Hypothesis: ('The men are fighting outside a deli.',)\n",
      "True Label: tensor([1])\n",
      "Predicted Label: tensor([1.], device='cuda:0', grad_fn=<RoundBackward>)\n",
      "\n",
      "Premise: ('Two young children in blue jerseys, one with the number 9 and one with the number 2 are standing on wooden steps in a bathroom and washing their hands in a sink.',)\n",
      "Hypothesis: ('Two kids in numbered jerseys wash their hands.',)\n",
      "True Label: tensor([0])\n",
      "Predicted Label: tensor([1.], device='cuda:0', grad_fn=<RoundBackward>)\n",
      "\n"
     ]
    }
   ],
   "source": [
    "\"\"\"\n",
    "Select 3 pairs from the validation set, and run your model on those 3 examples. Then, paste the pairs, the true label, and the predicted label in the text box below, using the following format:\n",
    "\n",
    "Premise: <write your premise here>\n",
    "Hypothesis: <write your hypothesis here>\n",
    "True Label: <the label that came from the validation set>\n",
    "Predicted Label: <what was output by your model>\n",
    "\"\"\"\n",
    "# select 3 pairs from the validation set\n",
    "valid_loader = torch.utils.data.DataLoader(\n",
    "    NLIDataset(valid_raw), batch_size=1, shuffle=False,\n",
    ")\n",
    "model.eval()\n",
    "count = 0\n",
    "for premise, hypothesis, target in valid_loader:\n",
    "    preds = model(model.tokenize(premise, hypothesis).to(device))\n",
    "    preds = preds.round()\n",
    "    print('Premise:', premise)\n",
    "    print('Hypothesis:', hypothesis)\n",
    "    print('True Label:', target)\n",
    "    print('Predicted Label:', preds)\n",
    "    print()\n",
    "    count += 1\n",
    "    if count == 3:\n",
    "        break"
   ],
   "metadata": {
    "collapsed": false
   }
  },
  {
   "cell_type": "code",
   "execution_count": 16,
   "outputs": [],
   "source": [],
   "metadata": {
    "collapsed": false
   }
  }
 ],
 "metadata": {
  "kernelspec": {
   "display_name": "Python 3",
   "language": "python",
   "name": "python3"
  },
  "language_info": {
   "codemirror_mode": {
    "name": "ipython",
    "version": 2
   },
   "file_extension": ".py",
   "mimetype": "text/x-python",
   "name": "python",
   "nbconvert_exporter": "python",
   "pygments_lexer": "ipython2",
   "version": "2.7.6"
  }
 },
 "nbformat": 4,
 "nbformat_minor": 0
}
